{
 "cells": [
  {
   "cell_type": "code",
   "execution_count": 3,
   "id": "d21ee4c9-4582-4171-88a0-f7a4563d693c",
   "metadata": {
    "tags": []
   },
   "outputs": [
    {
     "name": "stderr",
     "output_type": "stream",
     "text": [
      "2024-01-18 16:23:26.795323: E external/local_xla/xla/stream_executor/cuda/cuda_dnn.cc:9261] Unable to register cuDNN factory: Attempting to register factory for plugin cuDNN when one has already been registered\n",
      "2024-01-18 16:23:26.795371: E external/local_xla/xla/stream_executor/cuda/cuda_fft.cc:607] Unable to register cuFFT factory: Attempting to register factory for plugin cuFFT when one has already been registered\n",
      "2024-01-18 16:23:26.796709: E external/local_xla/xla/stream_executor/cuda/cuda_blas.cc:1515] Unable to register cuBLAS factory: Attempting to register factory for plugin cuBLAS when one has already been registered\n",
      "2024-01-18 16:23:26.805253: I tensorflow/core/platform/cpu_feature_guard.cc:182] This TensorFlow binary is optimized to use available CPU instructions in performance-critical operations.\n",
      "To enable the following instructions: AVX2 FMA, in other operations, rebuild TensorFlow with the appropriate compiler flags.\n",
      "2024-01-18 16:23:27.982454: W tensorflow/compiler/tf2tensorrt/utils/py_utils.cc:38] TF-TRT Warning: Could not find TensorRT\n"
     ]
    }
   ],
   "source": [
    "import os\n",
    "import numpy as np\n",
    "from matplotlib import pyplot as plt\n",
    "import glob\n",
    "# import pickle\n",
    "import random\n",
    "import re\n",
    "import nibabel as nib\n",
    "\n",
    "import tensorflow as tf\n",
    "from tensorflow.keras.utils import to_categorical\n",
    "\n",
    "# from tensorflow.keras.callbacks import CSVLogger\n",
    "\n",
    "from keras.models import load_model\n",
    "# from keras.models import Model\n",
    "# from keras.layers import Input, Conv3D, MaxPooling3D, concatenate, Conv3DTranspose, BatchNormalization, Dropout, Lambda\n",
    "# from keras.optimizers import Adam\n",
    "# from keras.metrics import MeanIoU\n",
    "# import keras.backend as K\n",
    "from sklearn.preprocessing import MinMaxScaler\n",
    "scaler = MinMaxScaler()\n",
    "# import keras"
   ]
  },
  {
   "cell_type": "code",
   "execution_count": 4,
   "id": "fc172f4f-124e-43ac-9864-2b7a010ed40b",
   "metadata": {
    "tags": []
   },
   "outputs": [],
   "source": [
    "# os.environ['CUDA_VISIBLE_DEVICES'] = '-1'"
   ]
  },
  {
   "cell_type": "code",
   "execution_count": 5,
   "id": "26686bf4-12cc-41df-a092-e848d06c43bc",
   "metadata": {
    "tags": []
   },
   "outputs": [
    {
     "name": "stdout",
     "output_type": "stream",
     "text": [
      "[]\n"
     ]
    },
    {
     "name": "stderr",
     "output_type": "stream",
     "text": [
      "2024-01-18 16:23:29.408734: E external/local_xla/xla/stream_executor/cuda/cuda_driver.cc:274] failed call to cuInit: CUDA_ERROR_COMPAT_NOT_SUPPORTED_ON_DEVICE: forward compatibility was attempted on non supported HW\n",
      "2024-01-18 16:23:29.408780: I external/local_xla/xla/stream_executor/cuda/cuda_diagnostics.cc:129] retrieving CUDA diagnostic information for host: whale\n",
      "2024-01-18 16:23:29.408787: I external/local_xla/xla/stream_executor/cuda/cuda_diagnostics.cc:136] hostname: whale\n",
      "2024-01-18 16:23:29.408973: I external/local_xla/xla/stream_executor/cuda/cuda_diagnostics.cc:159] libcuda reported version is: 535.146.2\n",
      "2024-01-18 16:23:29.408996: I external/local_xla/xla/stream_executor/cuda/cuda_diagnostics.cc:163] kernel reported version is: 535.129.3\n",
      "2024-01-18 16:23:29.409003: E external/local_xla/xla/stream_executor/cuda/cuda_diagnostics.cc:244] kernel version 535.129.3 does not match DSO version 535.146.2 -- cannot find working devices in this configuration\n"
     ]
    }
   ],
   "source": [
    "# Set GPU device\n",
    "gpus = tf.config.experimental.list_physical_devices('GPU')\n",
    "print(gpus)\n",
    "if gpus:\n",
    "    # Restrict TensorFlow to only allocate memory on the first GPU\n",
    "    try:\n",
    "        tf.config.experimental.set_visible_devices(gpus[0], 'GPU')\n",
    "        logical_gpus = tf.config.experimental.list_logical_devices('GPU')\n",
    "        print(len(gpus), \"Physical GPUs,\", len(logical_gpus), \"Logical GPU\")\n",
    "    except RuntimeError as e:\n",
    "        # Visible devices must be set before GPUs have been initialized\n",
    "        print(e)"
   ]
  },
  {
   "cell_type": "code",
   "execution_count": 4,
   "id": "c03cece7-de7d-40cb-b5dc-e9c1966515b4",
   "metadata": {
    "tags": []
   },
   "outputs": [],
   "source": [
    "model = load_model('brats_3d.hdf5', compile=False)"
   ]
  },
  {
   "cell_type": "code",
   "execution_count": 5,
   "id": "ace76bd0-0196-415f-bf5f-06beaaf3fde0",
   "metadata": {
    "tags": []
   },
   "outputs": [],
   "source": [
    "def load_and_combine(mydata_path, split_type, i):\n",
    "    image_t1=nib.load(os.path.join(mydata_path, f'{split_type}_{i}', f'{split_type}_{i}_t1.nii.gz')).get_fdata()\n",
    "    image_t1=scaler.fit_transform(image_t1.reshape(-1, image_t1.shape[-1])).reshape(image_t1.shape)\n",
    "\n",
    "    image_t2=nib.load(os.path.join(mydata_path, f'{split_type}_{i}', f'{split_type}_{i}_t2.nii.gz')).get_fdata()\n",
    "    image_t2=scaler.fit_transform(image_t2.reshape(-1, image_t2.shape[-1])).reshape(image_t2.shape)\n",
    "\n",
    "    image_t1ce=nib.load(os.path.join(mydata_path, f'{split_type}_{i}', f'{split_type}_{i}_t1ce.nii.gz')).get_fdata()\n",
    "    image_t1ce=scaler.fit_transform(image_t1ce.reshape(-1, image_t1ce.shape[-1])).reshape(image_t1ce.shape)\n",
    "\n",
    "    image_flair=nib.load(os.path.join(mydata_path, f'{split_type}_{i}', f'{split_type}_{i}_flair.nii.gz')).get_fdata()\n",
    "    image_flair=scaler.fit_transform(image_flair.reshape(-1, image_flair.shape[-1])).reshape(image_flair.shape)\n",
    "\n",
    "    mask=nib.load(os.path.join(mydata_path, f'{split_type}_{i}', f'{split_type}_{i}_seg.nii.gz')).get_fdata()\n",
    "\n",
    "    # mask=mask.astype(np.uint8)\n",
    "    mask[mask==4] = 3\n",
    "    # mask= to_categorical(mask, num_classes=4)\n",
    "    combined_x = np.stack([image_t1, image_t2, image_t1ce, image_flair], axis=3)\n",
    "\n",
    "    combined_x=combined_x[56:184, 56:184, 13:141]\n",
    "    mask = mask[56:184, 56:184, 13:141]\n",
    "    \n",
    "    return combined_x, mask"
   ]
  },
  {
   "cell_type": "code",
   "execution_count": 6,
   "id": "384f48d5-8e46-45b6-89c3-b246f8363ed6",
   "metadata": {
    "collapsed": true,
    "jupyter": {
     "outputs_hidden": true
    },
    "tags": []
   },
   "outputs": [
    {
     "name": "stderr",
     "output_type": "stream",
     "text": [
      "2024-01-18 03:05:39.945615: I external/local_xla/xla/stream_executor/cuda/cuda_dnn.cc:454] Loaded cuDNN version 8902\n",
      "2024-01-18 03:05:40.254718: I external/local_tsl/tsl/platform/default/subprocess.cc:304] Start cannot spawn child process: No such file or directory\n",
      "2024-01-18 03:05:40.908251: I external/local_tsl/tsl/platform/default/subprocess.cc:304] Start cannot spawn child process: No such file or directory\n",
      "2024-01-18 03:05:41.619335: W external/local_tsl/tsl/framework/bfc_allocator.cc:296] Allocator (GPU_0_bfc) ran out of memory trying to allocate 601.00MiB with freed_by_count=0. The caller indicates that this is not a failure, but this may mean that there could be performance gains if more memory were available.\n",
      "2024-01-18 03:05:41.624473: W external/local_tsl/tsl/framework/bfc_allocator.cc:296] Allocator (GPU_0_bfc) ran out of memory trying to allocate 601.00MiB with freed_by_count=0. The caller indicates that this is not a failure, but this may mean that there could be performance gains if more memory were available.\n",
      "2024-01-18 03:05:41.633541: W external/local_tsl/tsl/framework/bfc_allocator.cc:296] Allocator (GPU_0_bfc) ran out of memory trying to allocate 1.15GiB with freed_by_count=0. The caller indicates that this is not a failure, but this may mean that there could be performance gains if more memory were available.\n",
      "2024-01-18 03:05:41.638976: W external/local_tsl/tsl/framework/bfc_allocator.cc:296] Allocator (GPU_0_bfc) ran out of memory trying to allocate 1.15GiB with freed_by_count=0. The caller indicates that this is not a failure, but this may mean that there could be performance gains if more memory were available.\n",
      "2024-01-18 03:05:41.648732: W external/local_tsl/tsl/framework/bfc_allocator.cc:296] Allocator (GPU_0_bfc) ran out of memory trying to allocate 2.27GiB with freed_by_count=0. The caller indicates that this is not a failure, but this may mean that there could be performance gains if more memory were available.\n",
      "2024-01-18 03:05:41.655003: W external/local_tsl/tsl/framework/bfc_allocator.cc:296] Allocator (GPU_0_bfc) ran out of memory trying to allocate 2.27GiB with freed_by_count=0. The caller indicates that this is not a failure, but this may mean that there could be performance gains if more memory were available.\n",
      "2024-01-18 03:05:41.831782: W external/local_tsl/tsl/framework/bfc_allocator.cc:296] Allocator (GPU_0_bfc) ran out of memory trying to allocate 1.16GiB with freed_by_count=0. The caller indicates that this is not a failure, but this may mean that there could be performance gains if more memory were available.\n",
      "2024-01-18 03:05:41.839739: W external/local_tsl/tsl/framework/bfc_allocator.cc:296] Allocator (GPU_0_bfc) ran out of memory trying to allocate 1.16GiB with freed_by_count=0. The caller indicates that this is not a failure, but this may mean that there could be performance gains if more memory were available.\n",
      "2024-01-18 03:05:41.874391: W external/local_tsl/tsl/framework/bfc_allocator.cc:296] Allocator (GPU_0_bfc) ran out of memory trying to allocate 313.00MiB with freed_by_count=0. The caller indicates that this is not a failure, but this may mean that there could be performance gains if more memory were available.\n",
      "2024-01-18 03:05:41.891802: W external/local_tsl/tsl/framework/bfc_allocator.cc:296] Allocator (GPU_0_bfc) ran out of memory trying to allocate 313.00MiB with freed_by_count=0. The caller indicates that this is not a failure, but this may mean that there could be performance gains if more memory were available.\n",
      "2024-01-18 03:05:52.073531: W external/local_tsl/tsl/framework/bfc_allocator.cc:485] Allocator (GPU_0_bfc) ran out of memory trying to allocate 256.00MiB (rounded to 268435456)requested by op model_1/concatenate_7/concat\n",
      "If the cause is memory fragmentation maybe the environment variable 'TF_GPU_ALLOCATOR=cuda_malloc_async' will improve the situation. \n",
      "Current allocation summary follows.\n",
      "Current allocation summary follows.\n",
      "2024-01-18 03:05:52.073593: I external/local_tsl/tsl/framework/bfc_allocator.cc:1039] BFCAllocator dump for GPU_0_bfc\n",
      "2024-01-18 03:05:52.073624: I external/local_tsl/tsl/framework/bfc_allocator.cc:1046] Bin (256): \tTotal Chunks: 45, Chunks in use: 44. 11.2KiB allocated for chunks. 11.0KiB in use in bin. 2.6KiB client-requested in use in bin.\n",
      "2024-01-18 03:05:52.073647: I external/local_tsl/tsl/framework/bfc_allocator.cc:1046] Bin (512): \tTotal Chunks: 5, Chunks in use: 5. 2.8KiB allocated for chunks. 2.8KiB in use in bin. 2.5KiB client-requested in use in bin.\n",
      "2024-01-18 03:05:52.073670: I external/local_tsl/tsl/framework/bfc_allocator.cc:1046] Bin (1024): \tTotal Chunks: 3, Chunks in use: 3. 3.8KiB allocated for chunks. 3.8KiB in use in bin. 3.0KiB client-requested in use in bin.\n",
      "2024-01-18 03:05:52.073691: I external/local_tsl/tsl/framework/bfc_allocator.cc:1046] Bin (2048): \tTotal Chunks: 0, Chunks in use: 0. 0B allocated for chunks. 0B in use in bin. 0B client-requested in use in bin.\n",
      "2024-01-18 03:05:52.073714: I external/local_tsl/tsl/framework/bfc_allocator.cc:1046] Bin (4096): \tTotal Chunks: 1, Chunks in use: 1. 6.8KiB allocated for chunks. 6.8KiB in use in bin. 6.8KiB client-requested in use in bin.\n",
      "2024-01-18 03:05:52.073731: I external/local_tsl/tsl/framework/bfc_allocator.cc:1046] Bin (8192): \tTotal Chunks: 0, Chunks in use: 0. 0B allocated for chunks. 0B in use in bin. 0B client-requested in use in bin.\n",
      "2024-01-18 03:05:52.073754: I external/local_tsl/tsl/framework/bfc_allocator.cc:1046] Bin (16384): \tTotal Chunks: 2, Chunks in use: 1. 45.2KiB allocated for chunks. 18.2KiB in use in bin. 16.0KiB client-requested in use in bin.\n",
      "2024-01-18 03:05:52.073777: I external/local_tsl/tsl/framework/bfc_allocator.cc:1046] Bin (32768): \tTotal Chunks: 3, Chunks in use: 3. 142.0KiB allocated for chunks. 142.0KiB in use in bin. 108.0KiB client-requested in use in bin.\n",
      "2024-01-18 03:05:52.073800: I external/local_tsl/tsl/framework/bfc_allocator.cc:1046] Bin (65536): \tTotal Chunks: 3, Chunks in use: 3. 304.0KiB allocated for chunks. 304.0KiB in use in bin. 226.0KiB client-requested in use in bin.\n",
      "2024-01-18 03:05:52.073823: I external/local_tsl/tsl/framework/bfc_allocator.cc:1046] Bin (131072): \tTotal Chunks: 3, Chunks in use: 2. 560.0KiB allocated for chunks. 398.0KiB in use in bin. 324.0KiB client-requested in use in bin.\n",
      "2024-01-18 03:05:52.073848: I external/local_tsl/tsl/framework/bfc_allocator.cc:1046] Bin (262144): \tTotal Chunks: 3, Chunks in use: 3. 1.19MiB allocated for chunks. 1.19MiB in use in bin. 904.0KiB client-requested in use in bin.\n",
      "2024-01-18 03:05:52.073865: I external/local_tsl/tsl/framework/bfc_allocator.cc:1046] Bin (524288): \tTotal Chunks: 3, Chunks in use: 2. 2.08MiB allocated for chunks. 1.55MiB in use in bin. 1.27MiB client-requested in use in bin.\n",
      "2024-01-18 03:05:52.073882: I external/local_tsl/tsl/framework/bfc_allocator.cc:1046] Bin (1048576): \tTotal Chunks: 4, Chunks in use: 3. 6.02MiB allocated for chunks. 4.75MiB in use in bin. 3.53MiB client-requested in use in bin.\n",
      "2024-01-18 03:05:52.073899: I external/local_tsl/tsl/framework/bfc_allocator.cc:1046] Bin (2097152): \tTotal Chunks: 4, Chunks in use: 3. 12.12MiB allocated for chunks. 9.59MiB in use in bin. 8.44MiB client-requested in use in bin.\n",
      "2024-01-18 03:05:52.073917: I external/local_tsl/tsl/framework/bfc_allocator.cc:1046] Bin (4194304): \tTotal Chunks: 1, Chunks in use: 1. 6.75MiB allocated for chunks. 6.75MiB in use in bin. 6.75MiB client-requested in use in bin.\n",
      "2024-01-18 03:05:52.073931: I external/local_tsl/tsl/framework/bfc_allocator.cc:1046] Bin (8388608): \tTotal Chunks: 0, Chunks in use: 0. 0B allocated for chunks. 0B in use in bin. 0B client-requested in use in bin.\n",
      "2024-01-18 03:05:52.073946: I external/local_tsl/tsl/framework/bfc_allocator.cc:1046] Bin (16777216): \tTotal Chunks: 0, Chunks in use: 0. 0B allocated for chunks. 0B in use in bin. 0B client-requested in use in bin.\n",
      "2024-01-18 03:05:52.073965: I external/local_tsl/tsl/framework/bfc_allocator.cc:1046] Bin (33554432): \tTotal Chunks: 1, Chunks in use: 1. 32.00MiB allocated for chunks. 32.00MiB in use in bin. 32.00MiB client-requested in use in bin.\n",
      "2024-01-18 03:05:52.073980: I external/local_tsl/tsl/framework/bfc_allocator.cc:1046] Bin (67108864): \tTotal Chunks: 0, Chunks in use: 0. 0B allocated for chunks. 0B in use in bin. 0B client-requested in use in bin.\n",
      "2024-01-18 03:05:52.073999: I external/local_tsl/tsl/framework/bfc_allocator.cc:1046] Bin (134217728): \tTotal Chunks: 4, Chunks in use: 2. 607.41MiB allocated for chunks. 256.00MiB in use in bin. 256.00MiB client-requested in use in bin.\n",
      "2024-01-18 03:05:52.074015: I external/local_tsl/tsl/framework/bfc_allocator.cc:1046] Bin (268435456): \tTotal Chunks: 0, Chunks in use: 0. 0B allocated for chunks. 0B in use in bin. 0B client-requested in use in bin.\n",
      "2024-01-18 03:05:52.074031: I external/local_tsl/tsl/framework/bfc_allocator.cc:1062] Bin for 256.00MiB was 256.00MiB, Chunk State: \n",
      "2024-01-18 03:05:52.074043: I external/local_tsl/tsl/framework/bfc_allocator.cc:1075] Next region of size 701104128\n",
      "2024-01-18 03:05:52.074055: I external/local_tsl/tsl/framework/bfc_allocator.cc:1095] InUse at 7f72ce000000 of size 1280 next 1\n",
      "2024-01-18 03:05:52.074063: I external/local_tsl/tsl/framework/bfc_allocator.cc:1095] InUse at 7f72ce000500 of size 256 next 2\n",
      "2024-01-18 03:05:52.074071: I external/local_tsl/tsl/framework/bfc_allocator.cc:1095] InUse at 7f72ce000600 of size 256 next 3\n",
      "2024-01-18 03:05:52.074079: I external/local_tsl/tsl/framework/bfc_allocator.cc:1095] InUse at 7f72ce000700 of size 256 next 5\n",
      "2024-01-18 03:05:52.074086: I external/local_tsl/tsl/framework/bfc_allocator.cc:1095] InUse at 7f72ce000800 of size 256 next 6\n",
      "2024-01-18 03:05:52.074094: I external/local_tsl/tsl/framework/bfc_allocator.cc:1095] InUse at 7f72ce000900 of size 256 next 4\n",
      "2024-01-18 03:05:52.074101: I external/local_tsl/tsl/framework/bfc_allocator.cc:1095] InUse at 7f72ce000a00 of size 256 next 7\n",
      "2024-01-18 03:05:52.074108: I external/local_tsl/tsl/framework/bfc_allocator.cc:1095] InUse at 7f72ce000b00 of size 256 next 12\n",
      "2024-01-18 03:05:52.074116: I external/local_tsl/tsl/framework/bfc_allocator.cc:1095] InUse at 7f72ce000c00 of size 256 next 10\n",
      "2024-01-18 03:05:52.074123: I external/local_tsl/tsl/framework/bfc_allocator.cc:1095] InUse at 7f72ce000d00 of size 256 next 11\n",
      "2024-01-18 03:05:52.074131: I external/local_tsl/tsl/framework/bfc_allocator.cc:1095] InUse at 7f72ce000e00 of size 256 next 17\n",
      "2024-01-18 03:05:52.074138: I external/local_tsl/tsl/framework/bfc_allocator.cc:1095] InUse at 7f72ce000f00 of size 256 next 20\n",
      "2024-01-18 03:05:52.074145: I external/local_tsl/tsl/framework/bfc_allocator.cc:1095] InUse at 7f72ce001000 of size 256 next 18\n",
      "2024-01-18 03:05:52.074152: I external/local_tsl/tsl/framework/bfc_allocator.cc:1095] InUse at 7f72ce001100 of size 256 next 19\n",
      "2024-01-18 03:05:52.074160: I external/local_tsl/tsl/framework/bfc_allocator.cc:1095] InUse at 7f72ce001200 of size 256 next 25\n",
      "2024-01-18 03:05:52.074168: I external/local_tsl/tsl/framework/bfc_allocator.cc:1095] InUse at 7f72ce001300 of size 768 next 26\n",
      "2024-01-18 03:05:52.074179: I external/local_tsl/tsl/framework/bfc_allocator.cc:1095] InUse at 7f72ce001600 of size 256 next 27\n",
      "2024-01-18 03:05:52.074189: I external/local_tsl/tsl/framework/bfc_allocator.cc:1095] InUse at 7f72ce001700 of size 256 next 33\n",
      "2024-01-18 03:05:52.074197: I external/local_tsl/tsl/framework/bfc_allocator.cc:1095] InUse at 7f72ce001800 of size 1536 next 34\n",
      "2024-01-18 03:05:52.074205: I external/local_tsl/tsl/framework/bfc_allocator.cc:1095] InUse at 7f72ce001e00 of size 256 next 35\n",
      "2024-01-18 03:05:52.074212: I external/local_tsl/tsl/framework/bfc_allocator.cc:1095] InUse at 7f72ce001f00 of size 256 next 41\n",
      "2024-01-18 03:05:52.074219: I external/local_tsl/tsl/framework/bfc_allocator.cc:1095] InUse at 7f72ce002000 of size 512 next 45\n",
      "2024-01-18 03:05:52.074227: I external/local_tsl/tsl/framework/bfc_allocator.cc:1095] InUse at 7f72ce002200 of size 512 next 44\n",
      "2024-01-18 03:05:52.074234: I external/local_tsl/tsl/framework/bfc_allocator.cc:1095] InUse at 7f72ce002400 of size 256 next 42\n",
      "2024-01-18 03:05:52.074241: I external/local_tsl/tsl/framework/bfc_allocator.cc:1095] InUse at 7f72ce002500 of size 256 next 43\n",
      "2024-01-18 03:05:52.074249: I external/local_tsl/tsl/framework/bfc_allocator.cc:1095] InUse at 7f72ce002600 of size 512 next 36\n",
      "2024-01-18 03:05:52.074256: I external/local_tsl/tsl/framework/bfc_allocator.cc:1095] InUse at 7f72ce002800 of size 256 next 47\n",
      "2024-01-18 03:05:52.074263: I external/local_tsl/tsl/framework/bfc_allocator.cc:1095] InUse at 7f72ce002900 of size 256 next 14\n",
      "2024-01-18 03:05:52.074270: I external/local_tsl/tsl/framework/bfc_allocator.cc:1095] InUse at 7f72ce002a00 of size 256 next 23\n",
      "2024-01-18 03:05:52.074278: I external/local_tsl/tsl/framework/bfc_allocator.cc:1095] Free  at 7f72ce002b00 of size 256 next 48\n",
      "2024-01-18 03:05:52.074285: I external/local_tsl/tsl/framework/bfc_allocator.cc:1095] InUse at 7f72ce002c00 of size 256 next 53\n",
      "2024-01-18 03:05:52.074296: I external/local_tsl/tsl/framework/bfc_allocator.cc:1095] InUse at 7f72ce002d00 of size 256 next 54\n",
      "2024-01-18 03:05:52.074304: I external/local_tsl/tsl/framework/bfc_allocator.cc:1095] InUse at 7f72ce002e00 of size 256 next 58\n",
      "2024-01-18 03:05:52.074311: I external/local_tsl/tsl/framework/bfc_allocator.cc:1095] InUse at 7f72ce002f00 of size 256 next 56\n",
      "2024-01-18 03:05:52.074318: I external/local_tsl/tsl/framework/bfc_allocator.cc:1095] InUse at 7f72ce003000 of size 256 next 57\n",
      "2024-01-18 03:05:52.074325: I external/local_tsl/tsl/framework/bfc_allocator.cc:1095] InUse at 7f72ce003100 of size 256 next 59\n",
      "2024-01-18 03:05:52.074333: I external/local_tsl/tsl/framework/bfc_allocator.cc:1095] InUse at 7f72ce003200 of size 256 next 62\n",
      "2024-01-18 03:05:52.074340: I external/local_tsl/tsl/framework/bfc_allocator.cc:1095] InUse at 7f72ce003300 of size 256 next 66\n",
      "2024-01-18 03:05:52.074350: I external/local_tsl/tsl/framework/bfc_allocator.cc:1095] InUse at 7f72ce003400 of size 256 next 64\n",
      "2024-01-18 03:05:52.074360: I external/local_tsl/tsl/framework/bfc_allocator.cc:1095] InUse at 7f72ce003500 of size 256 next 65\n",
      "2024-01-18 03:05:52.074371: I external/local_tsl/tsl/framework/bfc_allocator.cc:1095] InUse at 7f72ce003600 of size 256 next 67\n",
      "2024-01-18 03:05:52.074382: I external/local_tsl/tsl/framework/bfc_allocator.cc:1095] InUse at 7f72ce003700 of size 256 next 70\n",
      "2024-01-18 03:05:52.074393: I external/local_tsl/tsl/framework/bfc_allocator.cc:1095] InUse at 7f72ce003800 of size 256 next 74\n",
      "2024-01-18 03:05:52.074404: I external/local_tsl/tsl/framework/bfc_allocator.cc:1095] InUse at 7f72ce003900 of size 256 next 72\n",
      "2024-01-18 03:05:52.074416: I external/local_tsl/tsl/framework/bfc_allocator.cc:1095] InUse at 7f72ce003a00 of size 256 next 73\n",
      "2024-01-18 03:05:52.074427: I external/local_tsl/tsl/framework/bfc_allocator.cc:1095] InUse at 7f72ce003b00 of size 256 next 75\n",
      "2024-01-18 03:05:52.074438: I external/local_tsl/tsl/framework/bfc_allocator.cc:1095] InUse at 7f72ce003c00 of size 256 next 78\n",
      "2024-01-18 03:05:52.074449: I external/local_tsl/tsl/framework/bfc_allocator.cc:1095] InUse at 7f72ce003d00 of size 256 next 81\n",
      "2024-01-18 03:05:52.074460: I external/local_tsl/tsl/framework/bfc_allocator.cc:1095] InUse at 7f72ce003e00 of size 256 next 80\n",
      "2024-01-18 03:05:52.074472: I external/local_tsl/tsl/framework/bfc_allocator.cc:1095] InUse at 7f72ce003f00 of size 39936 next 76\n",
      "2024-01-18 03:05:52.074486: I external/local_tsl/tsl/framework/bfc_allocator.cc:1095] InUse at 7f72ce00db00 of size 50176 next 13\n",
      "2024-01-18 03:05:52.074497: I external/local_tsl/tsl/framework/bfc_allocator.cc:1095] InUse at 7f72ce019f00 of size 256 next 82\n",
      "2024-01-18 03:05:52.074509: I external/local_tsl/tsl/framework/bfc_allocator.cc:1095] InUse at 7f72ce01a000 of size 6912 next 83\n",
      "2024-01-18 03:05:52.074520: I external/local_tsl/tsl/framework/bfc_allocator.cc:1095] InUse at 7f72ce01bb00 of size 256 next 8\n",
      "2024-01-18 03:05:52.074532: I external/local_tsl/tsl/framework/bfc_allocator.cc:1095] InUse at 7f72ce01bc00 of size 512 next 31\n",
      "2024-01-18 03:05:52.074544: I external/local_tsl/tsl/framework/bfc_allocator.cc:1095] InUse at 7f72ce01be00 of size 1024 next 28\n",
      "2024-01-18 03:05:52.074556: I external/local_tsl/tsl/framework/bfc_allocator.cc:1095] InUse at 7f72ce01c200 of size 18688 next 79\n",
      "2024-01-18 03:05:52.074567: I external/local_tsl/tsl/framework/bfc_allocator.cc:1095] Free  at 7f72ce020b00 of size 27648 next 16\n",
      "2024-01-18 03:05:52.074579: I external/local_tsl/tsl/framework/bfc_allocator.cc:1095] InUse at 7f72ce027700 of size 186368 next 68\n",
      "2024-01-18 03:05:52.074591: I external/local_tsl/tsl/framework/bfc_allocator.cc:1095] InUse at 7f72ce054f00 of size 90112 next 22\n",
      "2024-01-18 03:05:52.074603: I external/local_tsl/tsl/framework/bfc_allocator.cc:1095] InUse at 7f72ce06af00 of size 110592 next 21\n",
      "2024-01-18 03:05:52.074615: I external/local_tsl/tsl/framework/bfc_allocator.cc:1095] InUse at 7f72ce085f00 of size 55296 next 77\n",
      "2024-01-18 03:05:52.074627: I external/local_tsl/tsl/framework/bfc_allocator.cc:1095] Free  at 7f72ce093700 of size 165888 next 24\n",
      "2024-01-18 03:05:52.074640: I external/local_tsl/tsl/framework/bfc_allocator.cc:1095] InUse at 7f72ce0bbf00 of size 745472 next 60\n",
      "2024-01-18 03:05:52.074652: I external/local_tsl/tsl/framework/bfc_allocator.cc:1095] InUse at 7f72ce171f00 of size 360448 next 30\n",
      "2024-01-18 03:05:52.074669: I external/local_tsl/tsl/framework/bfc_allocator.cc:1095] InUse at 7f72ce1c9f00 of size 442368 next 29\n",
      "2024-01-18 03:05:52.074681: I external/local_tsl/tsl/framework/bfc_allocator.cc:1095] InUse at 7f72ce235f00 of size 221184 next 69\n",
      "2024-01-18 03:05:52.074693: I external/local_tsl/tsl/framework/bfc_allocator.cc:1095] InUse at 7f72ce26bf00 of size 110592 next 63\n",
      "2024-01-18 03:05:52.074704: I external/local_tsl/tsl/framework/bfc_allocator.cc:1095] Free  at 7f72ce286f00 of size 552960 next 32\n",
      "2024-01-18 03:05:52.074716: I external/local_tsl/tsl/framework/bfc_allocator.cc:1095] InUse at 7f72ce30df00 of size 2981888 next 51\n",
      "2024-01-18 03:05:52.074728: I external/local_tsl/tsl/framework/bfc_allocator.cc:1095] InUse at 7f72ce5e5f00 of size 1441792 next 38\n",
      "2024-01-18 03:05:52.074744: I external/local_tsl/tsl/framework/bfc_allocator.cc:1095] InUse at 7f72ce745f00 of size 1769472 next 37\n",
      "2024-01-18 03:05:52.074756: I external/local_tsl/tsl/framework/bfc_allocator.cc:1095] InUse at 7f72ce8f5f00 of size 884736 next 61\n",
      "2024-01-18 03:05:52.074767: I external/local_tsl/tsl/framework/bfc_allocator.cc:1095] Free  at 7f72ce9cdf00 of size 2654208 next 40\n",
      "2024-01-18 03:05:52.074779: I external/local_tsl/tsl/framework/bfc_allocator.cc:1095] InUse at 7f72cec55f00 of size 3538944 next 39\n",
      "2024-01-18 03:05:52.074791: I external/local_tsl/tsl/framework/bfc_allocator.cc:1095] InUse at 7f72cefb5f00 of size 3538944 next 52\n",
      "2024-01-18 03:05:52.074802: I external/local_tsl/tsl/framework/bfc_allocator.cc:1095] InUse at 7f72cf315f00 of size 1769472 next 49\n",
      "2024-01-18 03:05:52.074814: I external/local_tsl/tsl/framework/bfc_allocator.cc:1095] InUse at 7f72cf4c5f00 of size 442368 next 55\n",
      "2024-01-18 03:05:52.074825: I external/local_tsl/tsl/framework/bfc_allocator.cc:1095] Free  at 7f72cf531f00 of size 1327104 next 50\n",
      "2024-01-18 03:05:52.074837: I external/local_tsl/tsl/framework/bfc_allocator.cc:1095] InUse at 7f72cf675f00 of size 7077888 next 46\n",
      "2024-01-18 03:05:52.074850: I external/local_tsl/tsl/framework/bfc_allocator.cc:1095] InUse at 7f72cfd35f00 of size 33554432 next 71\n",
      "2024-01-18 03:05:52.074861: I external/local_tsl/tsl/framework/bfc_allocator.cc:1095] Free  at 7f72d1d35f00 of size 201326592 next 84\n",
      "2024-01-18 03:05:52.074874: I external/local_tsl/tsl/framework/bfc_allocator.cc:1095] InUse at 7f72ddd35f00 of size 134217728 next 15\n",
      "2024-01-18 03:05:52.074886: I external/local_tsl/tsl/framework/bfc_allocator.cc:1095] InUse at 7f72e5d35f00 of size 134217728 next 86\n",
      "2024-01-18 03:05:52.074898: I external/local_tsl/tsl/framework/bfc_allocator.cc:1095] Free  at 7f72edd35f00 of size 167158016 next 18446744073709551615\n",
      "2024-01-18 03:05:52.074908: I external/local_tsl/tsl/framework/bfc_allocator.cc:1100]      Summary of in-use Chunks by size: \n",
      "2024-01-18 03:05:52.074926: I external/local_tsl/tsl/framework/bfc_allocator.cc:1103] 44 Chunks of size 256 totalling 11.0KiB\n",
      "2024-01-18 03:05:52.074941: I external/local_tsl/tsl/framework/bfc_allocator.cc:1103] 4 Chunks of size 512 totalling 2.0KiB\n",
      "2024-01-18 03:05:52.074954: I external/local_tsl/tsl/framework/bfc_allocator.cc:1103] 1 Chunks of size 768 totalling 768B\n",
      "2024-01-18 03:05:52.074969: I external/local_tsl/tsl/framework/bfc_allocator.cc:1103] 1 Chunks of size 1024 totalling 1.0KiB\n",
      "2024-01-18 03:05:52.074983: I external/local_tsl/tsl/framework/bfc_allocator.cc:1103] 1 Chunks of size 1280 totalling 1.2KiB\n",
      "2024-01-18 03:05:52.074997: I external/local_tsl/tsl/framework/bfc_allocator.cc:1103] 1 Chunks of size 1536 totalling 1.5KiB\n",
      "2024-01-18 03:05:52.075014: I external/local_tsl/tsl/framework/bfc_allocator.cc:1103] 1 Chunks of size 6912 totalling 6.8KiB\n",
      "2024-01-18 03:05:52.075029: I external/local_tsl/tsl/framework/bfc_allocator.cc:1103] 1 Chunks of size 18688 totalling 18.2KiB\n",
      "2024-01-18 03:05:52.075043: I external/local_tsl/tsl/framework/bfc_allocator.cc:1103] 1 Chunks of size 39936 totalling 39.0KiB\n",
      "2024-01-18 03:05:52.075057: I external/local_tsl/tsl/framework/bfc_allocator.cc:1103] 1 Chunks of size 50176 totalling 49.0KiB\n",
      "2024-01-18 03:05:52.075071: I external/local_tsl/tsl/framework/bfc_allocator.cc:1103] 1 Chunks of size 55296 totalling 54.0KiB\n",
      "2024-01-18 03:05:52.075086: I external/local_tsl/tsl/framework/bfc_allocator.cc:1103] 1 Chunks of size 90112 totalling 88.0KiB\n",
      "2024-01-18 03:05:52.075100: I external/local_tsl/tsl/framework/bfc_allocator.cc:1103] 2 Chunks of size 110592 totalling 216.0KiB\n",
      "2024-01-18 03:05:52.075113: I external/local_tsl/tsl/framework/bfc_allocator.cc:1103] 1 Chunks of size 186368 totalling 182.0KiB\n",
      "2024-01-18 03:05:52.075127: I external/local_tsl/tsl/framework/bfc_allocator.cc:1103] 1 Chunks of size 221184 totalling 216.0KiB\n",
      "2024-01-18 03:05:52.075142: I external/local_tsl/tsl/framework/bfc_allocator.cc:1103] 1 Chunks of size 360448 totalling 352.0KiB\n",
      "2024-01-18 03:05:52.075156: I external/local_tsl/tsl/framework/bfc_allocator.cc:1103] 2 Chunks of size 442368 totalling 864.0KiB\n",
      "2024-01-18 03:05:52.075170: I external/local_tsl/tsl/framework/bfc_allocator.cc:1103] 1 Chunks of size 745472 totalling 728.0KiB\n",
      "2024-01-18 03:05:52.075185: I external/local_tsl/tsl/framework/bfc_allocator.cc:1103] 1 Chunks of size 884736 totalling 864.0KiB\n",
      "2024-01-18 03:05:52.075198: I external/local_tsl/tsl/framework/bfc_allocator.cc:1103] 1 Chunks of size 1441792 totalling 1.38MiB\n",
      "2024-01-18 03:05:52.075212: I external/local_tsl/tsl/framework/bfc_allocator.cc:1103] 2 Chunks of size 1769472 totalling 3.38MiB\n",
      "2024-01-18 03:05:52.075229: I external/local_tsl/tsl/framework/bfc_allocator.cc:1103] 1 Chunks of size 2981888 totalling 2.84MiB\n",
      "2024-01-18 03:05:52.075243: I external/local_tsl/tsl/framework/bfc_allocator.cc:1103] 2 Chunks of size 3538944 totalling 6.75MiB\n",
      "2024-01-18 03:05:52.075256: I external/local_tsl/tsl/framework/bfc_allocator.cc:1103] 1 Chunks of size 7077888 totalling 6.75MiB\n",
      "2024-01-18 03:05:52.075271: I external/local_tsl/tsl/framework/bfc_allocator.cc:1103] 1 Chunks of size 33554432 totalling 32.00MiB\n",
      "2024-01-18 03:05:52.075284: I external/local_tsl/tsl/framework/bfc_allocator.cc:1103] 2 Chunks of size 134217728 totalling 256.00MiB\n",
      "2024-01-18 03:05:52.075299: I external/local_tsl/tsl/framework/bfc_allocator.cc:1107] Sum Total of in-use chunks: 312.70MiB\n",
      "2024-01-18 03:05:52.075312: I external/local_tsl/tsl/framework/bfc_allocator.cc:1109] Total bytes in pool: 701104128 memory_limit_: 701104128 available bytes: 0 curr_region_allocation_bytes_: 1402208256\n",
      "2024-01-18 03:05:52.075332: I external/local_tsl/tsl/framework/bfc_allocator.cc:1114] Stats: \n",
      "Limit:                       701104128\n",
      "InUse:                       327891456\n",
      "MaxInUse:                    679626496\n",
      "NumAllocs:                         549\n",
      "MaxAllocSize:                301375744\n",
      "Reserved:                            0\n",
      "PeakReserved:                        0\n",
      "LargestFreeBlock:                    0\n",
      "\n",
      "2024-01-18 03:05:52.075354: W external/local_tsl/tsl/framework/bfc_allocator.cc:497] **********___________________________****************************************_______________________\n",
      "2024-01-18 03:05:52.075393: W tensorflow/core/framework/op_kernel.cc:1839] OP_REQUIRES failed at concat_op.cc:165 : RESOURCE_EXHAUSTED: OOM when allocating tensor with shape[1,32,128,128,128] and type float on /job:localhost/replica:0/task:0/device:GPU:0 by allocator GPU_0_bfc\n"
     ]
    },
    {
     "ename": "ResourceExhaustedError",
     "evalue": "Graph execution error:\n\nDetected at node model_1/concatenate_7/concat defined at (most recent call last):\n  File \"/usr/lib/python3.10/runpy.py\", line 196, in _run_module_as_main\n\n  File \"/usr/lib/python3.10/runpy.py\", line 86, in _run_code\n\n  File \"/group/bagel/Task_1.B/MRI_Segmentation_and_TumorClassification/Brata2020_Unet_segmentation/unetSeg_venv4/lib/python3.10/site-packages/ipykernel_launcher.py\", line 17, in <module>\n\n  File \"/group/bagel/Task_1.B/MRI_Segmentation_and_TumorClassification/Brata2020_Unet_segmentation/unetSeg_venv4/lib/python3.10/site-packages/traitlets/config/application.py\", line 1075, in launch_instance\n\n  File \"/group/bagel/Task_1.B/MRI_Segmentation_and_TumorClassification/Brata2020_Unet_segmentation/unetSeg_venv4/lib/python3.10/site-packages/ipykernel/kernelapp.py\", line 739, in start\n\n  File \"/group/bagel/Task_1.B/MRI_Segmentation_and_TumorClassification/Brata2020_Unet_segmentation/unetSeg_venv4/lib/python3.10/site-packages/tornado/platform/asyncio.py\", line 205, in start\n\n  File \"/usr/lib/python3.10/asyncio/base_events.py\", line 603, in run_forever\n\n  File \"/usr/lib/python3.10/asyncio/base_events.py\", line 1909, in _run_once\n\n  File \"/usr/lib/python3.10/asyncio/events.py\", line 80, in _run\n\n  File \"/group/bagel/Task_1.B/MRI_Segmentation_and_TumorClassification/Brata2020_Unet_segmentation/unetSeg_venv4/lib/python3.10/site-packages/ipykernel/kernelbase.py\", line 542, in dispatch_queue\n\n  File \"/group/bagel/Task_1.B/MRI_Segmentation_and_TumorClassification/Brata2020_Unet_segmentation/unetSeg_venv4/lib/python3.10/site-packages/ipykernel/kernelbase.py\", line 531, in process_one\n\n  File \"/group/bagel/Task_1.B/MRI_Segmentation_and_TumorClassification/Brata2020_Unet_segmentation/unetSeg_venv4/lib/python3.10/site-packages/ipykernel/kernelbase.py\", line 437, in dispatch_shell\n\n  File \"/group/bagel/Task_1.B/MRI_Segmentation_and_TumorClassification/Brata2020_Unet_segmentation/unetSeg_venv4/lib/python3.10/site-packages/ipykernel/ipkernel.py\", line 359, in execute_request\n\n  File \"/group/bagel/Task_1.B/MRI_Segmentation_and_TumorClassification/Brata2020_Unet_segmentation/unetSeg_venv4/lib/python3.10/site-packages/ipykernel/kernelbase.py\", line 775, in execute_request\n\n  File \"/group/bagel/Task_1.B/MRI_Segmentation_and_TumorClassification/Brata2020_Unet_segmentation/unetSeg_venv4/lib/python3.10/site-packages/ipykernel/ipkernel.py\", line 446, in do_execute\n\n  File \"/group/bagel/Task_1.B/MRI_Segmentation_and_TumorClassification/Brata2020_Unet_segmentation/unetSeg_venv4/lib/python3.10/site-packages/ipykernel/zmqshell.py\", line 549, in run_cell\n\n  File \"/group/bagel/Task_1.B/MRI_Segmentation_and_TumorClassification/Brata2020_Unet_segmentation/unetSeg_venv4/lib/python3.10/site-packages/IPython/core/interactiveshell.py\", line 3051, in run_cell\n\n  File \"/group/bagel/Task_1.B/MRI_Segmentation_and_TumorClassification/Brata2020_Unet_segmentation/unetSeg_venv4/lib/python3.10/site-packages/IPython/core/interactiveshell.py\", line 3106, in _run_cell\n\n  File \"/group/bagel/Task_1.B/MRI_Segmentation_and_TumorClassification/Brata2020_Unet_segmentation/unetSeg_venv4/lib/python3.10/site-packages/IPython/core/async_helpers.py\", line 129, in _pseudo_sync_runner\n\n  File \"/group/bagel/Task_1.B/MRI_Segmentation_and_TumorClassification/Brata2020_Unet_segmentation/unetSeg_venv4/lib/python3.10/site-packages/IPython/core/interactiveshell.py\", line 3311, in run_cell_async\n\n  File \"/group/bagel/Task_1.B/MRI_Segmentation_and_TumorClassification/Brata2020_Unet_segmentation/unetSeg_venv4/lib/python3.10/site-packages/IPython/core/interactiveshell.py\", line 3493, in run_ast_nodes\n\n  File \"/group/bagel/Task_1.B/MRI_Segmentation_and_TumorClassification/Brata2020_Unet_segmentation/unetSeg_venv4/lib/python3.10/site-packages/IPython/core/interactiveshell.py\", line 3553, in run_code\n\n  File \"/tmp/ipykernel_166853/3093098990.py\", line 17, in <module>\n\n  File \"/group/bagel/Task_1.B/MRI_Segmentation_and_TumorClassification/Brata2020_Unet_segmentation/unetSeg_venv4/lib/python3.10/site-packages/keras/src/utils/traceback_utils.py\", line 65, in error_handler\n\n  File \"/group/bagel/Task_1.B/MRI_Segmentation_and_TumorClassification/Brata2020_Unet_segmentation/unetSeg_venv4/lib/python3.10/site-packages/keras/src/engine/training.py\", line 2655, in predict\n\n  File \"/group/bagel/Task_1.B/MRI_Segmentation_and_TumorClassification/Brata2020_Unet_segmentation/unetSeg_venv4/lib/python3.10/site-packages/keras/src/engine/training.py\", line 2440, in predict_function\n\n  File \"/group/bagel/Task_1.B/MRI_Segmentation_and_TumorClassification/Brata2020_Unet_segmentation/unetSeg_venv4/lib/python3.10/site-packages/keras/src/engine/training.py\", line 2425, in step_function\n\n  File \"/group/bagel/Task_1.B/MRI_Segmentation_and_TumorClassification/Brata2020_Unet_segmentation/unetSeg_venv4/lib/python3.10/site-packages/keras/src/engine/training.py\", line 2413, in run_step\n\n  File \"/group/bagel/Task_1.B/MRI_Segmentation_and_TumorClassification/Brata2020_Unet_segmentation/unetSeg_venv4/lib/python3.10/site-packages/keras/src/engine/training.py\", line 2381, in predict_step\n\n  File \"/group/bagel/Task_1.B/MRI_Segmentation_and_TumorClassification/Brata2020_Unet_segmentation/unetSeg_venv4/lib/python3.10/site-packages/keras/src/utils/traceback_utils.py\", line 65, in error_handler\n\n  File \"/group/bagel/Task_1.B/MRI_Segmentation_and_TumorClassification/Brata2020_Unet_segmentation/unetSeg_venv4/lib/python3.10/site-packages/keras/src/engine/training.py\", line 590, in __call__\n\n  File \"/group/bagel/Task_1.B/MRI_Segmentation_and_TumorClassification/Brata2020_Unet_segmentation/unetSeg_venv4/lib/python3.10/site-packages/keras/src/utils/traceback_utils.py\", line 65, in error_handler\n\n  File \"/group/bagel/Task_1.B/MRI_Segmentation_and_TumorClassification/Brata2020_Unet_segmentation/unetSeg_venv4/lib/python3.10/site-packages/keras/src/engine/base_layer.py\", line 1149, in __call__\n\n  File \"/group/bagel/Task_1.B/MRI_Segmentation_and_TumorClassification/Brata2020_Unet_segmentation/unetSeg_venv4/lib/python3.10/site-packages/keras/src/utils/traceback_utils.py\", line 96, in error_handler\n\n  File \"/group/bagel/Task_1.B/MRI_Segmentation_and_TumorClassification/Brata2020_Unet_segmentation/unetSeg_venv4/lib/python3.10/site-packages/keras/src/engine/functional.py\", line 515, in call\n\n  File \"/group/bagel/Task_1.B/MRI_Segmentation_and_TumorClassification/Brata2020_Unet_segmentation/unetSeg_venv4/lib/python3.10/site-packages/keras/src/engine/functional.py\", line 672, in _run_internal_graph\n\n  File \"/group/bagel/Task_1.B/MRI_Segmentation_and_TumorClassification/Brata2020_Unet_segmentation/unetSeg_venv4/lib/python3.10/site-packages/keras/src/utils/traceback_utils.py\", line 65, in error_handler\n\n  File \"/group/bagel/Task_1.B/MRI_Segmentation_and_TumorClassification/Brata2020_Unet_segmentation/unetSeg_venv4/lib/python3.10/site-packages/keras/src/engine/base_layer.py\", line 1149, in __call__\n\n  File \"/group/bagel/Task_1.B/MRI_Segmentation_and_TumorClassification/Brata2020_Unet_segmentation/unetSeg_venv4/lib/python3.10/site-packages/keras/src/utils/traceback_utils.py\", line 96, in error_handler\n\n  File \"/group/bagel/Task_1.B/MRI_Segmentation_and_TumorClassification/Brata2020_Unet_segmentation/unetSeg_venv4/lib/python3.10/site-packages/keras/src/layers/merging/base_merge.py\", line 196, in call\n\n  File \"/group/bagel/Task_1.B/MRI_Segmentation_and_TumorClassification/Brata2020_Unet_segmentation/unetSeg_venv4/lib/python3.10/site-packages/keras/src/layers/merging/concatenate.py\", line 134, in _merge_function\n\n  File \"/group/bagel/Task_1.B/MRI_Segmentation_and_TumorClassification/Brata2020_Unet_segmentation/unetSeg_venv4/lib/python3.10/site-packages/keras/src/backend.py\", line 3580, in concatenate\n\nOOM when allocating tensor with shape[1,32,128,128,128] and type float on /job:localhost/replica:0/task:0/device:GPU:0 by allocator GPU_0_bfc\n\t [[{{node model_1/concatenate_7/concat}}]]\nHint: If you want to see a list of allocated tensors when OOM happens, add report_tensor_allocations_upon_oom to RunOptions for current allocation info. This isn't available when running in Eager mode.\n [Op:__inference_predict_function_1183]",
     "output_type": "error",
     "traceback": [
      "\u001b[0;31m---------------------------------------------------------------------------\u001b[0m",
      "\u001b[0;31mResourceExhaustedError\u001b[0m                    Traceback (most recent call last)",
      "Cell \u001b[0;32mIn[6], line 17\u001b[0m\n\u001b[1;32m     14\u001b[0m img, mask \u001b[38;5;241m=\u001b[39m load_and_combine(mydata_path, split_type, i\u001b[38;5;241m+\u001b[39m\u001b[38;5;241m1\u001b[39m)\n\u001b[1;32m     15\u001b[0m img_input \u001b[38;5;241m=\u001b[39m np\u001b[38;5;241m.\u001b[39mexpand_dims(img, axis\u001b[38;5;241m=\u001b[39m\u001b[38;5;241m0\u001b[39m)\n\u001b[0;32m---> 17\u001b[0m prediction \u001b[38;5;241m=\u001b[39m \u001b[43mmodel\u001b[49m\u001b[38;5;241;43m.\u001b[39;49m\u001b[43mpredict\u001b[49m\u001b[43m(\u001b[49m\u001b[43mimg_input\u001b[49m\u001b[43m)\u001b[49m\n\u001b[1;32m     19\u001b[0m \u001b[38;5;66;03m# mask_argmax=np.argmax(mask, axis=3)\u001b[39;00m\n\u001b[1;32m     20\u001b[0m prediction_argmax\u001b[38;5;241m=\u001b[39mnp\u001b[38;5;241m.\u001b[39margmax(prediction, axis\u001b[38;5;241m=\u001b[39m\u001b[38;5;241m4\u001b[39m)[\u001b[38;5;241m0\u001b[39m,:,:,:]\n",
      "File \u001b[0;32m/group/bagel/Task_1.B/MRI_Segmentation_and_TumorClassification/Brata2020_Unet_segmentation/unetSeg_venv4/lib/python3.10/site-packages/keras/src/utils/traceback_utils.py:70\u001b[0m, in \u001b[0;36mfilter_traceback.<locals>.error_handler\u001b[0;34m(*args, **kwargs)\u001b[0m\n\u001b[1;32m     67\u001b[0m     filtered_tb \u001b[38;5;241m=\u001b[39m _process_traceback_frames(e\u001b[38;5;241m.\u001b[39m__traceback__)\n\u001b[1;32m     68\u001b[0m     \u001b[38;5;66;03m# To get the full stack trace, call:\u001b[39;00m\n\u001b[1;32m     69\u001b[0m     \u001b[38;5;66;03m# `tf.debugging.disable_traceback_filtering()`\u001b[39;00m\n\u001b[0;32m---> 70\u001b[0m     \u001b[38;5;28;01mraise\u001b[39;00m e\u001b[38;5;241m.\u001b[39mwith_traceback(filtered_tb) \u001b[38;5;28;01mfrom\u001b[39;00m \u001b[38;5;28;01mNone\u001b[39;00m\n\u001b[1;32m     71\u001b[0m \u001b[38;5;28;01mfinally\u001b[39;00m:\n\u001b[1;32m     72\u001b[0m     \u001b[38;5;28;01mdel\u001b[39;00m filtered_tb\n",
      "File \u001b[0;32m/group/bagel/Task_1.B/MRI_Segmentation_and_TumorClassification/Brata2020_Unet_segmentation/unetSeg_venv4/lib/python3.10/site-packages/tensorflow/python/eager/execute.py:53\u001b[0m, in \u001b[0;36mquick_execute\u001b[0;34m(op_name, num_outputs, inputs, attrs, ctx, name)\u001b[0m\n\u001b[1;32m     51\u001b[0m \u001b[38;5;28;01mtry\u001b[39;00m:\n\u001b[1;32m     52\u001b[0m   ctx\u001b[38;5;241m.\u001b[39mensure_initialized()\n\u001b[0;32m---> 53\u001b[0m   tensors \u001b[38;5;241m=\u001b[39m pywrap_tfe\u001b[38;5;241m.\u001b[39mTFE_Py_Execute(ctx\u001b[38;5;241m.\u001b[39m_handle, device_name, op_name,\n\u001b[1;32m     54\u001b[0m                                       inputs, attrs, num_outputs)\n\u001b[1;32m     55\u001b[0m \u001b[38;5;28;01mexcept\u001b[39;00m core\u001b[38;5;241m.\u001b[39m_NotOkStatusException \u001b[38;5;28;01mas\u001b[39;00m e:\n\u001b[1;32m     56\u001b[0m   \u001b[38;5;28;01mif\u001b[39;00m name \u001b[38;5;129;01mis\u001b[39;00m \u001b[38;5;129;01mnot\u001b[39;00m \u001b[38;5;28;01mNone\u001b[39;00m:\n",
      "\u001b[0;31mResourceExhaustedError\u001b[0m: Graph execution error:\n\nDetected at node model_1/concatenate_7/concat defined at (most recent call last):\n  File \"/usr/lib/python3.10/runpy.py\", line 196, in _run_module_as_main\n\n  File \"/usr/lib/python3.10/runpy.py\", line 86, in _run_code\n\n  File \"/group/bagel/Task_1.B/MRI_Segmentation_and_TumorClassification/Brata2020_Unet_segmentation/unetSeg_venv4/lib/python3.10/site-packages/ipykernel_launcher.py\", line 17, in <module>\n\n  File \"/group/bagel/Task_1.B/MRI_Segmentation_and_TumorClassification/Brata2020_Unet_segmentation/unetSeg_venv4/lib/python3.10/site-packages/traitlets/config/application.py\", line 1075, in launch_instance\n\n  File \"/group/bagel/Task_1.B/MRI_Segmentation_and_TumorClassification/Brata2020_Unet_segmentation/unetSeg_venv4/lib/python3.10/site-packages/ipykernel/kernelapp.py\", line 739, in start\n\n  File \"/group/bagel/Task_1.B/MRI_Segmentation_and_TumorClassification/Brata2020_Unet_segmentation/unetSeg_venv4/lib/python3.10/site-packages/tornado/platform/asyncio.py\", line 205, in start\n\n  File \"/usr/lib/python3.10/asyncio/base_events.py\", line 603, in run_forever\n\n  File \"/usr/lib/python3.10/asyncio/base_events.py\", line 1909, in _run_once\n\n  File \"/usr/lib/python3.10/asyncio/events.py\", line 80, in _run\n\n  File \"/group/bagel/Task_1.B/MRI_Segmentation_and_TumorClassification/Brata2020_Unet_segmentation/unetSeg_venv4/lib/python3.10/site-packages/ipykernel/kernelbase.py\", line 542, in dispatch_queue\n\n  File \"/group/bagel/Task_1.B/MRI_Segmentation_and_TumorClassification/Brata2020_Unet_segmentation/unetSeg_venv4/lib/python3.10/site-packages/ipykernel/kernelbase.py\", line 531, in process_one\n\n  File \"/group/bagel/Task_1.B/MRI_Segmentation_and_TumorClassification/Brata2020_Unet_segmentation/unetSeg_venv4/lib/python3.10/site-packages/ipykernel/kernelbase.py\", line 437, in dispatch_shell\n\n  File \"/group/bagel/Task_1.B/MRI_Segmentation_and_TumorClassification/Brata2020_Unet_segmentation/unetSeg_venv4/lib/python3.10/site-packages/ipykernel/ipkernel.py\", line 359, in execute_request\n\n  File \"/group/bagel/Task_1.B/MRI_Segmentation_and_TumorClassification/Brata2020_Unet_segmentation/unetSeg_venv4/lib/python3.10/site-packages/ipykernel/kernelbase.py\", line 775, in execute_request\n\n  File \"/group/bagel/Task_1.B/MRI_Segmentation_and_TumorClassification/Brata2020_Unet_segmentation/unetSeg_venv4/lib/python3.10/site-packages/ipykernel/ipkernel.py\", line 446, in do_execute\n\n  File \"/group/bagel/Task_1.B/MRI_Segmentation_and_TumorClassification/Brata2020_Unet_segmentation/unetSeg_venv4/lib/python3.10/site-packages/ipykernel/zmqshell.py\", line 549, in run_cell\n\n  File \"/group/bagel/Task_1.B/MRI_Segmentation_and_TumorClassification/Brata2020_Unet_segmentation/unetSeg_venv4/lib/python3.10/site-packages/IPython/core/interactiveshell.py\", line 3051, in run_cell\n\n  File \"/group/bagel/Task_1.B/MRI_Segmentation_and_TumorClassification/Brata2020_Unet_segmentation/unetSeg_venv4/lib/python3.10/site-packages/IPython/core/interactiveshell.py\", line 3106, in _run_cell\n\n  File \"/group/bagel/Task_1.B/MRI_Segmentation_and_TumorClassification/Brata2020_Unet_segmentation/unetSeg_venv4/lib/python3.10/site-packages/IPython/core/async_helpers.py\", line 129, in _pseudo_sync_runner\n\n  File \"/group/bagel/Task_1.B/MRI_Segmentation_and_TumorClassification/Brata2020_Unet_segmentation/unetSeg_venv4/lib/python3.10/site-packages/IPython/core/interactiveshell.py\", line 3311, in run_cell_async\n\n  File \"/group/bagel/Task_1.B/MRI_Segmentation_and_TumorClassification/Brata2020_Unet_segmentation/unetSeg_venv4/lib/python3.10/site-packages/IPython/core/interactiveshell.py\", line 3493, in run_ast_nodes\n\n  File \"/group/bagel/Task_1.B/MRI_Segmentation_and_TumorClassification/Brata2020_Unet_segmentation/unetSeg_venv4/lib/python3.10/site-packages/IPython/core/interactiveshell.py\", line 3553, in run_code\n\n  File \"/tmp/ipykernel_166853/3093098990.py\", line 17, in <module>\n\n  File \"/group/bagel/Task_1.B/MRI_Segmentation_and_TumorClassification/Brata2020_Unet_segmentation/unetSeg_venv4/lib/python3.10/site-packages/keras/src/utils/traceback_utils.py\", line 65, in error_handler\n\n  File \"/group/bagel/Task_1.B/MRI_Segmentation_and_TumorClassification/Brata2020_Unet_segmentation/unetSeg_venv4/lib/python3.10/site-packages/keras/src/engine/training.py\", line 2655, in predict\n\n  File \"/group/bagel/Task_1.B/MRI_Segmentation_and_TumorClassification/Brata2020_Unet_segmentation/unetSeg_venv4/lib/python3.10/site-packages/keras/src/engine/training.py\", line 2440, in predict_function\n\n  File \"/group/bagel/Task_1.B/MRI_Segmentation_and_TumorClassification/Brata2020_Unet_segmentation/unetSeg_venv4/lib/python3.10/site-packages/keras/src/engine/training.py\", line 2425, in step_function\n\n  File \"/group/bagel/Task_1.B/MRI_Segmentation_and_TumorClassification/Brata2020_Unet_segmentation/unetSeg_venv4/lib/python3.10/site-packages/keras/src/engine/training.py\", line 2413, in run_step\n\n  File \"/group/bagel/Task_1.B/MRI_Segmentation_and_TumorClassification/Brata2020_Unet_segmentation/unetSeg_venv4/lib/python3.10/site-packages/keras/src/engine/training.py\", line 2381, in predict_step\n\n  File \"/group/bagel/Task_1.B/MRI_Segmentation_and_TumorClassification/Brata2020_Unet_segmentation/unetSeg_venv4/lib/python3.10/site-packages/keras/src/utils/traceback_utils.py\", line 65, in error_handler\n\n  File \"/group/bagel/Task_1.B/MRI_Segmentation_and_TumorClassification/Brata2020_Unet_segmentation/unetSeg_venv4/lib/python3.10/site-packages/keras/src/engine/training.py\", line 590, in __call__\n\n  File \"/group/bagel/Task_1.B/MRI_Segmentation_and_TumorClassification/Brata2020_Unet_segmentation/unetSeg_venv4/lib/python3.10/site-packages/keras/src/utils/traceback_utils.py\", line 65, in error_handler\n\n  File \"/group/bagel/Task_1.B/MRI_Segmentation_and_TumorClassification/Brata2020_Unet_segmentation/unetSeg_venv4/lib/python3.10/site-packages/keras/src/engine/base_layer.py\", line 1149, in __call__\n\n  File \"/group/bagel/Task_1.B/MRI_Segmentation_and_TumorClassification/Brata2020_Unet_segmentation/unetSeg_venv4/lib/python3.10/site-packages/keras/src/utils/traceback_utils.py\", line 96, in error_handler\n\n  File \"/group/bagel/Task_1.B/MRI_Segmentation_and_TumorClassification/Brata2020_Unet_segmentation/unetSeg_venv4/lib/python3.10/site-packages/keras/src/engine/functional.py\", line 515, in call\n\n  File \"/group/bagel/Task_1.B/MRI_Segmentation_and_TumorClassification/Brata2020_Unet_segmentation/unetSeg_venv4/lib/python3.10/site-packages/keras/src/engine/functional.py\", line 672, in _run_internal_graph\n\n  File \"/group/bagel/Task_1.B/MRI_Segmentation_and_TumorClassification/Brata2020_Unet_segmentation/unetSeg_venv4/lib/python3.10/site-packages/keras/src/utils/traceback_utils.py\", line 65, in error_handler\n\n  File \"/group/bagel/Task_1.B/MRI_Segmentation_and_TumorClassification/Brata2020_Unet_segmentation/unetSeg_venv4/lib/python3.10/site-packages/keras/src/engine/base_layer.py\", line 1149, in __call__\n\n  File \"/group/bagel/Task_1.B/MRI_Segmentation_and_TumorClassification/Brata2020_Unet_segmentation/unetSeg_venv4/lib/python3.10/site-packages/keras/src/utils/traceback_utils.py\", line 96, in error_handler\n\n  File \"/group/bagel/Task_1.B/MRI_Segmentation_and_TumorClassification/Brata2020_Unet_segmentation/unetSeg_venv4/lib/python3.10/site-packages/keras/src/layers/merging/base_merge.py\", line 196, in call\n\n  File \"/group/bagel/Task_1.B/MRI_Segmentation_and_TumorClassification/Brata2020_Unet_segmentation/unetSeg_venv4/lib/python3.10/site-packages/keras/src/layers/merging/concatenate.py\", line 134, in _merge_function\n\n  File \"/group/bagel/Task_1.B/MRI_Segmentation_and_TumorClassification/Brata2020_Unet_segmentation/unetSeg_venv4/lib/python3.10/site-packages/keras/src/backend.py\", line 3580, in concatenate\n\nOOM when allocating tensor with shape[1,32,128,128,128] and type float on /job:localhost/replica:0/task:0/device:GPU:0 by allocator GPU_0_bfc\n\t [[{{node model_1/concatenate_7/concat}}]]\nHint: If you want to see a list of allocated tensors when OOM happens, add report_tensor_allocations_upon_oom to RunOptions for current allocation info. This isn't available when running in Eager mode.\n [Op:__inference_predict_function_1183]"
     ]
    }
   ],
   "source": [
    "split_type = 'test' # 'test', 'val'\n",
    "\n",
    "mydata_path = f'/group/bagel/Task_1.B/MRI_Segmentation_and_TumorClassification/Brata2020_Unet_segmentation/gt_data/{split_type}/data/segmentation' \n",
    "mydata_path_cropped = f'/group/bagel/Task_1.B/MRI_Segmentation_and_TumorClassification/Brata2020_Unet_segmentation/gt_data_cropped/{split_type}/data/segmentation' \n",
    "\n",
    "img_names = os.listdir(mydata_path)\n",
    "\n",
    "destination_directory = f'/group/bagel/Task_1.B/MRI_Segmentation_and_TumorClassification/Brata2020_Unet_segmentation/pred_data/{split_type}/data/segmentation/'\n",
    "os.makedirs(destination_directory, exist_ok=True)\n",
    "\n",
    "\n",
    "for i in range(len(img_names)):\n",
    "    \n",
    "    img, mask = load_and_combine(mydata_path, split_type, i+1)\n",
    "    img_input = np.expand_dims(img, axis=0)\n",
    "\n",
    "    prediction = model.predict(img_input)\n",
    "    \n",
    "    # mask_argmax=np.argmax(mask, axis=3)\n",
    "    prediction_argmax=np.argmax(prediction, axis=4)[0,:,:,:]\n",
    "\n",
    "    # Convert the data type to a more compatible format (e.g., int16)\n",
    "    mask = mask.astype(np.int16)\n",
    "    prediction_argmax = prediction_argmax.astype(np.int16)\n",
    "    \n",
    "    \n",
    "    # Create a directory path for the current file\n",
    "    cropped_img_input = os.path.join(mydata_path_cropped, f'{split_type}_{i+1}')\n",
    "    prediction_dir = os.path.join(destination_directory, f'{split_type}_{i+1}')\n",
    "    \n",
    "    # Ensure the directory exists\n",
    "    os.makedirs(cropped_img_input, exist_ok=True)\n",
    "    os.makedirs(prediction_dir, exist_ok=True)\n",
    "    \n",
    "    # Create a NIfTI image\n",
    "    affine = np.eye(4)\n",
    "    nifti_image_cropped = nib.Nifti1Image(mask, affine)\n",
    "    nifti_image_pred = nib.Nifti1Image(prediction_argmax, affine)\n",
    "    \n",
    "    # Save the NIfTI image\n",
    "    nifti_file_path_croppd = os.path.join(cropped_img_input, f'{split_type}_{i+1}_seg.nii.gz')\n",
    "    nifti_file_path_pred = os.path.join(prediction_dir, f'{split_type}_{i+1}_seg.nii.gz')\n",
    "    \n",
    "    nib.save(nifti_image_cropped, nifti_file_path_croppd)\n",
    "    nib.save(nifti_image_pred, nifti_file_path_pred)"
   ]
  },
  {
   "cell_type": "code",
   "execution_count": 201,
   "id": "6f509adf-d419-400c-b2ed-aa1444d67d0e",
   "metadata": {
    "tags": []
   },
   "outputs": [
    {
     "data": {
      "text/plain": [
       "1"
      ]
     },
     "execution_count": 201,
     "metadata": {},
     "output_type": "execute_result"
    }
   ],
   "source": [
    "1"
   ]
  },
  {
   "cell_type": "code",
   "execution_count": 9,
   "id": "062ab42d-75fc-42e5-b480-d58b243b4a80",
   "metadata": {
    "collapsed": true,
    "jupyter": {
     "outputs_hidden": true
    },
    "tags": []
   },
   "outputs": [
    {
     "data": {
      "text/plain": [
       "(139,\n",
       " ['test_31',\n",
       "  'test_11',\n",
       "  'test_111',\n",
       "  'test_35',\n",
       "  'test_84',\n",
       "  'test_124',\n",
       "  'test_22',\n",
       "  'test_100',\n",
       "  'test_90',\n",
       "  'test_50',\n",
       "  'test_110',\n",
       "  'test_36',\n",
       "  'test_87',\n",
       "  'test_103',\n",
       "  'test_28',\n",
       "  'test_24',\n",
       "  'test_12',\n",
       "  'test_80',\n",
       "  'test_83',\n",
       "  'test_66',\n",
       "  'test_101',\n",
       "  'test_6',\n",
       "  'test_48',\n",
       "  'test_16',\n",
       "  'test_46',\n",
       "  'test_18',\n",
       "  'test_82',\n",
       "  'test_68',\n",
       "  'test_51',\n",
       "  'test_52',\n",
       "  'test_125',\n",
       "  'test_54',\n",
       "  'test_129',\n",
       "  'test_133',\n",
       "  'test_75',\n",
       "  'test_138',\n",
       "  'test_38',\n",
       "  'test_89',\n",
       "  'test_130',\n",
       "  'test_114',\n",
       "  'test_91',\n",
       "  'test_3',\n",
       "  'test_108',\n",
       "  'test_44',\n",
       "  'test_99',\n",
       "  'test_49',\n",
       "  'test_19',\n",
       "  'test_132',\n",
       "  'test_45',\n",
       "  'test_27',\n",
       "  'test_64',\n",
       "  'test_76',\n",
       "  'test_106',\n",
       "  'test_34',\n",
       "  'test_135',\n",
       "  'test_126',\n",
       "  'test_8',\n",
       "  'test_71',\n",
       "  'test_42',\n",
       "  'test_57',\n",
       "  'test_113',\n",
       "  'test_59',\n",
       "  'test_105',\n",
       "  'test_53',\n",
       "  'test_26',\n",
       "  'test_17',\n",
       "  'test_116',\n",
       "  'test_119',\n",
       "  'test_137',\n",
       "  'test_13',\n",
       "  'test_85',\n",
       "  'test_136',\n",
       "  'test_41',\n",
       "  'test_20',\n",
       "  'test_9',\n",
       "  'test_102',\n",
       "  'test_29',\n",
       "  'test_96',\n",
       "  'test_127',\n",
       "  'test_39',\n",
       "  'test_94',\n",
       "  'test_88',\n",
       "  'test_30',\n",
       "  'test_115',\n",
       "  'test_112',\n",
       "  'test_107',\n",
       "  'test_32',\n",
       "  'test_15',\n",
       "  'test_77',\n",
       "  'test_122',\n",
       "  'test_67',\n",
       "  'test_93',\n",
       "  'test_14',\n",
       "  'test_81',\n",
       "  'test_61',\n",
       "  'test_7',\n",
       "  'test_58',\n",
       "  'test_78',\n",
       "  'test_43',\n",
       "  'test_134',\n",
       "  'test_70',\n",
       "  'test_62',\n",
       "  'test_4',\n",
       "  'test_128',\n",
       "  'test_21',\n",
       "  'test_1',\n",
       "  'test_118',\n",
       "  'test_65',\n",
       "  'test_73',\n",
       "  'test_97',\n",
       "  'test_0',\n",
       "  'test_117',\n",
       "  'test_25',\n",
       "  'test_98',\n",
       "  'test_120',\n",
       "  'test_2',\n",
       "  'test_33',\n",
       "  'test_131',\n",
       "  'test_10',\n",
       "  'test_56',\n",
       "  'test_123',\n",
       "  'test_23',\n",
       "  'test_92',\n",
       "  'test_55',\n",
       "  'test_72',\n",
       "  'test_69',\n",
       "  'test_63',\n",
       "  'test_109',\n",
       "  'test_74',\n",
       "  'test_47',\n",
       "  'test_95',\n",
       "  'test_40',\n",
       "  'test_86',\n",
       "  'test_79',\n",
       "  'test_104',\n",
       "  'test_60',\n",
       "  'test_121',\n",
       "  'test_5',\n",
       "  'test_37'])"
      ]
     },
     "execution_count": 9,
     "metadata": {},
     "output_type": "execute_result"
    }
   ],
   "source": [
    "# split_type = 'test'\n",
    "\n",
    "# mydata_path = '/group/bagel/Task_1.B/MRI_Segmentation_and_TumorClassification/Brata2020_Unet_segmentation/BraTS2020_TrainingData/input_data_128/'\n",
    "# img_names = os.listdir(mydata_path + '/' + split_type + '/images')\n",
    "# img_ids = sorted(list(map(lambda x: re.split('_|\\.', x)[1], img_names)))\n",
    "# len(img_ids), split_type\n",
    "\n",
    "# destination_directory = '/group/bagel/Task_1.B/MRI_Segmentation_and_TumorClassification/Brata2020_Unet_segmentation/predictions/split_type/data/segmentation/'\n",
    "# os.makedirs(destination_directory, exist_ok=True)\n",
    "\n",
    "\n",
    "# for i, id in enumerate(img_ids):\n",
    "#     img = np.load(mydata_path + split_type + \"/images/image_\" + id + \".npy\")\n",
    "#     mask = np.load(mydata_path + split_type + \"/masks/mask_\" + id + \".npy\")\n",
    "\n",
    "#     mask_argmax=np.argmax(mask, axis=3)\n",
    "#     img_input = np.expand_dims(img, axis=0)\n",
    "#     prediction = model.predict(img_input)\n",
    "#     prediction_argmax=np.argmax(prediction, axis=4)[0,:,:,:]\n",
    "    \n",
    "#     # Convert the data type to a more compatible format (e.g., int16)\n",
    "#     prediction_argmax = prediction_argmax.astype(np.int16)\n",
    "    \n",
    "#     # Create a directory path for the current prediction file\n",
    "#     prediction_dir = os.path.join(destination_directory, f'{split_type}_{i+1}')\n",
    "    \n",
    "#     # Ensure the directory exists\n",
    "#     os.makedirs(prediction_dir, exist_ok=True)\n",
    "    \n",
    "#     # Create a NIfTI image from the prediction\n",
    "#     affine = np.eye(4)\n",
    "    \n",
    "#     # Save the NIfTI image\n",
    "#     nifti_file_path = os.path.join(prediction_dir, f'{split_type}_{i}_seg.nii.gz')\n",
    "#     nib.save(nifti_image, nifti_file_path)"
   ]
  },
  {
   "cell_type": "code",
   "execution_count": 7,
   "id": "8544ab3e-6395-4382-9462-4ae29b91776c",
   "metadata": {
    "tags": []
   },
   "outputs": [
    {
     "ename": "NameError",
     "evalue": "name 'ground_truth_data' is not defined",
     "output_type": "error",
     "traceback": [
      "\u001b[0;31m---------------------------------------------------------------------------\u001b[0m",
      "\u001b[0;31mNameError\u001b[0m                                 Traceback (most recent call last)",
      "Cell \u001b[0;32mIn[7], line 1\u001b[0m\n\u001b[0;32m----> 1\u001b[0m np\u001b[38;5;241m.\u001b[39munique(\u001b[43mground_truth_data\u001b[49m)\n",
      "\u001b[0;31mNameError\u001b[0m: name 'ground_truth_data' is not defined"
     ]
    }
   ],
   "source": [
    "np.unique(ground_truth_data)"
   ]
  },
  {
   "cell_type": "code",
   "execution_count": 124,
   "id": "23697a11-49e9-4d8d-87a3-b601eddaeae9",
   "metadata": {
    "tags": []
   },
   "outputs": [
    {
     "name": "stdout",
     "output_type": "stream",
     "text": [
      "92\n"
     ]
    },
    {
     "data": {
      "image/png": "[encoded data removed]",
      "text/plain": [
       "<Figure size 1200x600 with 2 Axes>"
      ]
     },
     "metadata": {},
     "output_type": "display_data"
    }
   ],
   "source": [
    "i = 120\n",
    "# split_type = 'test'\n",
    "\n",
    "# Paths to your NIfTI files\n",
    "ground_truth_path_cropped = f'/group/bagel/Task_1.B/MRI_Segmentation_and_TumorClassification/Brata2020_Unet_segmentation/gt_data_cropped/{split_type}/data/segmentation/{split_type}_{i}/{split_type}_{i}_seg.nii.gz'\n",
    "# ground_truth_path = f'/group/bagel/Task_1.B/MRI_Segmentation_and_TumorClassification/Brata2020_Unet_segmentation/gt_data/test/data/segmentation/{split_type}_{i}/{split_type}_{i}_seg.nii.gz'\n",
    "predicted_path = f'/group/bagel/Task_1.B/MRI_Segmentation_and_TumorClassification/Brata2020_Unet_segmentation/pred_data/{split_type}/data/segmentation/{split_type}_{i}/{split_type}_{i}_seg.nii.gz'\n",
    "\n",
    "# Load the NIfTI files\n",
    "ground_truth_image_cropped = nib.load(ground_truth_path_cropped)\n",
    "# ground_truth_image = nib.load(ground_truth_path)\n",
    "predicted_image = nib.load(predicted_path)\n",
    "\n",
    "# Convert NIfTI files to NumPy arrays\n",
    "ground_truth_data_cropped = ground_truth_image_cropped.get_fdata()\n",
    "# ground_truth_data = ground_truth_image.get_fdata()\n",
    "predicted_data = predicted_image.get_fdata()\n",
    "\n",
    "# Select a slice to display\n",
    "slice_index = random.randint(50, 120)  # Example: middle slice in the third dimension\n",
    "print(slice_index)\n",
    "# slice_index=76\n",
    "# Plot the ground truth slice\n",
    "plt.figure(figsize=(12, 6))\n",
    "\n",
    "plt.subplot(1, 2, 1)\n",
    "plt.imshow(ground_truth_data_cropped[:, :, slice_index])\n",
    "plt.title('Ground Truth')\n",
    "    \n",
    "# plt.subplot(1, 3, 2)\n",
    "# plt.imshow(ground_truth_data[:, :, slice_index])\n",
    "# plt.title('Ground Truth')\n",
    "\n",
    "# Plot the predicted slice\n",
    "plt.subplot(1, 2, 2)\n",
    "plt.imshow(predicted_data[:, :, slice_index])\n",
    "plt.title('Prediction')\n",
    "\n",
    "# plt.show()\n",
    "plt.savefig('figs/predection')\n"
   ]
  },
  {
   "cell_type": "code",
   "execution_count": null,
   "id": "996a526a-8fa9-4b73-b669-009c9fb3e93b",
   "metadata": {},
   "outputs": [],
   "source": []
  },
  {
   "cell_type": "code",
   "execution_count": null,
   "id": "59a5aa5e-ed0b-4ab7-ba09-145d80043dc1",
   "metadata": {},
   "outputs": [],
   "source": []
  },
  {
   "cell_type": "code",
   "execution_count": 213,
   "id": "4a25807a-8cb6-40d1-8376-4da91be82953",
   "metadata": {
    "tags": []
   },
   "outputs": [
    {
     "data": {
      "text/plain": [
       "array([0., 1., 2., 4.])"
      ]
     },
     "execution_count": 213,
     "metadata": {},
     "output_type": "execute_result"
    }
   ],
   "source": [
    "np.unique(ground_truth_data)"
   ]
  },
  {
   "cell_type": "code",
   "execution_count": 214,
   "id": "bf08ca6c-b522-4a09-9f99-099549e2ab12",
   "metadata": {
    "tags": []
   },
   "outputs": [
    {
     "data": {
      "text/plain": [
       "(240, 240, 155)"
      ]
     },
     "execution_count": 214,
     "metadata": {},
     "output_type": "execute_result"
    }
   ],
   "source": [
    "ground_truth_data.shape"
   ]
  },
  {
   "cell_type": "code",
   "execution_count": 215,
   "id": "d88f1133-1292-447f-a6d0-cadf5246af87",
   "metadata": {
    "tags": []
   },
   "outputs": [
    {
     "data": {
      "text/plain": [
       "(array([0., 1., 2., 4.]), array([0., 1., 2., 3.]))"
      ]
     },
     "execution_count": 215,
     "metadata": {},
     "output_type": "execute_result"
    }
   ],
   "source": [
    "np.unique(ground_truth_data), np.unique(predicted_data)"
   ]
  },
  {
   "cell_type": "code",
   "execution_count": 222,
   "id": "3d4f904d-fade-487c-a6aa-a5cce8b86ad8",
   "metadata": {},
   "outputs": [
    {
     "data": {
      "image/png": "[encoded data removed]",
      "text/plain": [
       "<Figure size 1200x800 with 3 Axes>"
      ]
     },
     "metadata": {},
     "output_type": "display_data"
    }
   ],
   "source": [
    "#Plot individual slices from test predictions for verification\n",
    "n_slice=random.randint(0, prediction_argmax.shape[2])\n",
    "# n_slice = 55\n",
    "plt.figure(figsize=(12, 8))\n",
    "plt.subplot(231)\n",
    "plt.title('Testing Image')\n",
    "plt.imshow(img[:,:,n_slice,1], cmap='gray')\n",
    "plt.subplot(232)\n",
    "plt.title('Testing Label')\n",
    "plt.imshow(mask_argmax[:,:,n_slice])\n",
    "plt.subplot(233)\n",
    "plt.title('Prediction on test image')\n",
    "plt.imshow(prediction_argmax[:,:, n_slice])\n",
    "plt.show()"
   ]
  },
  {
   "cell_type": "code",
   "execution_count": null,
   "id": "04698cf5-4667-4224-89cb-5ee158f1211e",
   "metadata": {},
   "outputs": [],
   "source": []
  },
  {
   "cell_type": "code",
   "execution_count": null,
   "id": "e2eae208-3a41-4e1c-8ada-385ddd778132",
   "metadata": {},
   "outputs": [],
   "source": []
  }
 ],
 "metadata": {
  "kernelspec": {
   "display_name": "unetSeg_venv4",
   "language": "python",
   "name": "unetseg_venv4"
  },
  "language_info": {
   "codemirror_mode": {
    "name": "ipython",
    "version": 3
   },
   "file_extension": ".py",
   "mimetype": "text/x-python",
   "name": "python",
   "nbconvert_exporter": "python",
   "pygments_lexer": "ipython3",
   "version": "3.10.12"
  }
 },
 "nbformat": 4,
 "nbformat_minor": 5
}
