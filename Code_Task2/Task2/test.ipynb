{
 "cells": [
  {
   "cell_type": "markdown",
   "id": "807201bc-354a-4b69-82c7-fa7450f7c92d",
   "metadata": {},
   "source": [
    "# TESTING MODEL"
   ]
  },
  {
   "cell_type": "code",
   "execution_count": 1,
   "id": "dc75f7c2-81e6-4c75-a589-6d20bd297c18",
   "metadata": {
    "tags": []
   },
   "outputs": [],
   "source": [
    "import os\n",
    "import warnings\n",
    "import csv\n",
    "\n",
    "# Import .py files\n",
    "from dicom_utils import *\n",
    "from helper import *\n",
    "\n",
    "warnings.filterwarnings('ignore') # ignore tensorflow warnings\n",
    "os.environ['TF_CPP_MIN_LOG_LEVEL'] = '3' # ignore tensorflow warnings\n",
    "\n",
    "# Import PyTorch\n",
    "import torch\n",
    "\n",
    "# Import monai model\n",
    "from monai.networks.nets import resnet10"
   ]
  },
  {
   "cell_type": "code",
   "execution_count": 2,
   "id": "b5a46f46-f967-4bc3-929c-70eaa7040b49",
   "metadata": {
    "tags": []
   },
   "outputs": [],
   "source": [
    "# Set directory to root\n",
    "os.chdir('/')\n",
    "data_dir = \"data/classification\" \n",
    "save_dir = \"group/bagel/Task_2/Final\" \n",
    "csv_path = f\"{data_dir}/example_submission.csv\"\n",
    "\n",
    "# Model variables\n",
    "device = torch.device(\"cpu\" if torch.cuda.is_available() else \"cpu\")"
   ]
  },
  {
   "cell_type": "code",
   "execution_count": 4,
   "id": "3c7d9d23-b642-447d-a54f-0360f525874d",
   "metadata": {
    "tags": []
   },
   "outputs": [
    {
     "name": "stderr",
     "output_type": "stream",
     "text": [
      "100%|██████████| 117/117 [02:59<00:00,  1.54s/it]\n"
     ]
    }
   ],
   "source": [
    "# Load FLAIR Model\n",
    "f_model_path = f\"{save_dir}/models/FLAIR_model\"\n",
    "f_model = resnet10(spatial_dims=3, n_input_channels=1, num_classes=1)\n",
    "fmodel, f_model_summary = load_model(f_model, f_model_path)\n",
    "set_random_seed(42)\n",
    "f_test_dl = get_test_data_generators(csv_path, 'FLAIR', f_model_summary['num_3d_images'], 1)\n",
    "f_predictions = get_prediction(f_model, f_test_dl, device)"
   ]
  },
  {
   "cell_type": "code",
   "execution_count": 5,
   "id": "a2343bee-ae46-4c16-b250-1d1e247739e4",
   "metadata": {
    "tags": []
   },
   "outputs": [
    {
     "name": "stderr",
     "output_type": "stream",
     "text": [
      "100%|██████████| 117/117 [03:04<00:00,  1.58s/it]\n"
     ]
    }
   ],
   "source": [
    "# Load T1wCE Model\n",
    "t_model_path = f\"{save_dir}/models/FLAIR_model\"\n",
    "t_model = resnet10(spatial_dims=3, n_input_channels=1, num_classes=1)\n",
    "t_model, t_model_summary = load_model(t_model, t_model_path)\n",
    "set_random_seed(42)\n",
    "t_test_dl = get_test_data_generators(csv_path, 'T1wCE', f_model_summary['num_3d_images'], 1)\n",
    "t_predictions = get_prediction(t_model, t_test_dl, device)"
   ]
  },
  {
   "cell_type": "code",
   "execution_count": 31,
   "id": "fbea69c0-633e-4b8c-bf47-1723078e326a",
   "metadata": {
    "tags": []
   },
   "outputs": [],
   "source": [
    "list_id = list(pd.read_csv(csv_path, sep=';')['ID'])\n",
    "\n",
    "predictions = { \"ID\": [],\n",
    "                \"MGMT_probability\": [],\n",
    "                \"MGMT_value\": []}\n",
    "for i in list_id:\n",
    "    predictions[\"ID\"].append(i)\n",
    "    predictions[\"MGMT_probability\"].append(0.7*f_predictions[i]+0.3*t_predictions[i])\n",
    "    predictions[\"MGMT_value\"].append(int((f_predictions[i]) > (f_model_summary['threshold'])))\n",
    "predictions_df = pd.DataFrame(predictions)\n",
    "predictions_df.to_csv(f\"{save_dir}/submission.csv\", index=False)"
   ]
  },
  {
   "cell_type": "markdown",
   "id": "ec0586f6-88f3-47f1-aa75-b1f642823bc5",
   "metadata": {
    "tags": []
   },
   "source": [
    "python submission/evaluation_script/evaluate.py --task classification --true-path group/bagel/Task_2/Final --pred-path group/bagel/Task_2/Final"
   ]
  },
  {
   "cell_type": "code",
   "execution_count": 38,
   "id": "959791ab-44f9-450b-8178-432712201e63",
   "metadata": {
    "tags": []
   },
   "outputs": [],
   "source": [
    "list_id = list(pd.read_csv(csv_path, sep=';')['ID'])\n",
    "true = { \"ID\": [], \"MGMT_value\": []}\n",
    "p = 0\n",
    "for i in list_id:\n",
    "    true[\"ID\"].append(i)\n",
    "    true[\"MGMT_value\"].append(int(p))\n",
    "    p = (p+1)%2\n",
    "true_df = pd.DataFrame(true)\n",
    "true_df.to_csv(f\"{save_dir}/classification/labels.csv\", index=False)"
   ]
  }
 ],
 "metadata": {
  "kernelspec": {
   "display_name": "Project MIP Environment",
   "language": "python",
   "name": "env"
  },
  "language_info": {
   "codemirror_mode": {
    "name": "ipython",
    "version": 3
   },
   "file_extension": ".py",
   "mimetype": "text/x-python",
   "name": "python",
   "nbconvert_exporter": "python",
   "pygments_lexer": "ipython3",
   "version": "3.10.12"
  }
 },
 "nbformat": 4,
 "nbformat_minor": 5
}
