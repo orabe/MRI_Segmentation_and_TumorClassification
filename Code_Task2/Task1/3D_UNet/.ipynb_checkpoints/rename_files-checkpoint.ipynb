{
 "cells": [
  {
   "cell_type": "code",
   "execution_count": 3,
   "id": "86e26d44-11ee-4dc6-99cb-cdd50c60a772",
   "metadata": {
    "tags": []
   },
   "outputs": [],
   "source": [
    "import os\n",
    "import re\n",
    "import shutil"
   ]
  },
  {
   "cell_type": "markdown",
   "id": "c1380717-056f-495d-b56f-66ca0df9ad7d",
   "metadata": {},
   "source": [
    "# Copy the files"
   ]
  },
  {
   "cell_type": "code",
   "execution_count": 106,
   "id": "148a6d36-ec44-48a9-8322-3567dbbdfdac",
   "metadata": {
    "tags": []
   },
   "outputs": [
    {
     "data": {
      "text/plain": [
       "(644, 'train')"
      ]
     },
     "execution_count": 106,
     "metadata": {},
     "output_type": "execute_result"
    }
   ],
   "source": [
    "split_type = 'train'\n",
    "\n",
    "mydata_path = '/group/bagel/Task_1.B/MRI_Segmentation_and_TumorClassification/Brata2020_Unet_segmentation/BraTS2020_TrainingData/input_data_128/'\n",
    "img_names = os.listdir(mydata_path + split_type + '/images')\n",
    "img_ids = sorted(list(map(lambda x: re.split('_|\\.', x)[1], img_names)))\n",
    "len(img_ids), split_type"
   ]
  },
  {
   "cell_type": "code",
   "execution_count": 107,
   "id": "566cb117-5436-4cfa-8b71-443fd24acb49",
   "metadata": {
    "tags": []
   },
   "outputs": [],
   "source": [
    "source_directory = '/data/segmentation/train'\n",
    "destination_directory = f'/group/bagel/Task_1.B/MRI_Segmentation_and_TumorClassification/Brata2020_Unet_segmentation/gt_data/{split_type}/data/segmentation/'"
   ]
  },
  {
   "cell_type": "code",
   "execution_count": 108,
   "id": "52d8ed1a-3155-4094-a479-15b33cb1a881",
   "metadata": {
    "tags": []
   },
   "outputs": [],
   "source": [
    "os.makedirs(destination_directory, exist_ok=True)\n",
    "\n",
    "for i, folder_id in enumerate(img_ids):\n",
    "    source_folder = os.path.join(source_directory, folder_id)\n",
    "    destination_folder = os.path.join(destination_directory, folder_id)\n",
    "\n",
    "    shutil.copytree(source_folder, destination_folder)\n",
    "    # print(f\"{i}. Copied {folder_id}\")"
   ]
  },
  {
   "cell_type": "markdown",
   "id": "b9e91734-e810-44bc-909b-2d03aaf715c8",
   "metadata": {
    "tags": []
   },
   "source": [
    "# Rename the files"
   ]
  },
  {
   "cell_type": "code",
   "execution_count": 109,
   "id": "be217621-3c87-4291-b631-c031ff595164",
   "metadata": {
    "tags": []
   },
   "outputs": [],
   "source": [
    "path = destination_directory\n",
    "folders = sorted(os.listdir(path))\n",
    "\n",
    "for i, folder in enumerate(folders):\n",
    "    # print(folder)\n",
    "    for file in os.listdir(os.path.join(path, folder)):\n",
    "        if file == f'{folder}_flair.nii.gz':\n",
    "            os.rename(os.path.join(path, folder, file), os.path.join(path, folder, f'{split_type}_{i+1}_flair.nii.gz'))\n",
    "\n",
    "        if file == f'{folder}_t1.nii.gz':\n",
    "            os.rename(os.path.join(path, folder, file), os.path.join(path, folder, f'{split_type}_{i+1}_t1.nii.gz'))\n",
    "\n",
    "        if file == f'{folder}_t2.nii.gz':\n",
    "            os.rename(os.path.join(path, folder, file), os.path.join(path, folder, f'{split_type}_{i+1}_t2.nii.gz'))\n",
    "\n",
    "        if file == f'{folder}_t1ce.nii.gz':\n",
    "            os.rename(os.path.join(path, folder, file), os.path.join(path, folder, f'{split_type}_{i+1}_t1ce.nii.gz'))\n",
    "\n",
    "        if file == f'{folder}_seg.nii.gz':\n",
    "            os.rename(os.path.join(path, folder, file), os.path.join(path, folder, f'{split_type}_{i+1}_seg.nii.gz'))\n",
    "\n",
    "    \n",
    "    os.rename(os.path.join(path, folder), os.path.join(path, f'{split_type}_{i+1}'))"
   ]
  },
  {
   "cell_type": "code",
   "execution_count": 97,
   "id": "ae1cb649-0734-4989-a3ab-ecbb02f11545",
   "metadata": {
    "tags": []
   },
   "outputs": [],
   "source": [
    "# !rm -r gt_data"
   ]
  },
  {
   "cell_type": "code",
   "execution_count": null,
   "id": "97022365-cb65-4a76-a867-d69b7239fd93",
   "metadata": {},
   "outputs": [],
   "source": [
    "def load_data(mydata_path, split_type, i):\n",
    "    image_t1=nib.load(os.path.join(mydata_path, f'{split_type}_{i}', f'{split_type}_{i}_t1.nii.gz')).get_fdata()\n",
    "    image_t1=scaler.fit_transform(image_t1.reshape(-1, image_t1.shape[-1])).reshape(image_t1.shape)\n",
    "\n",
    "    image_t2=nib.load(os.path.join(mydata_path, f'{split_type}_{i}', f'{split_type}_{i}_t2.nii.gz')).get_fdata()\n",
    "    image_t2=scaler.fit_transform(image_t2.reshape(-1, image_t2.shape[-1])).reshape(image_t2.shape)\n",
    "\n",
    "    image_t1ce=nib.load(os.path.join(mydata_path, f'{split_type}_{i}', f'{split_type}_{i}_t1ce.nii.gz')).get_fdata()\n",
    "    image_t1ce=scaler.fit_transform(image_t1ce.reshape(-1, image_t1ce.shape[-1])).reshape(image_t1ce.shape)\n",
    "\n",
    "    image_flair=nib.load(os.path.join(mydata_path, f'{split_type}_{i}', f'{split_type}_{i}_flair.nii.gz')).get_fdata()\n",
    "    image_flair=scaler.fit_transform(image_flair.reshape(-1, image_flair.shape[-1])).reshape(image_flair.shape)\n",
    "\n",
    "    mask=nib.load(os.path.join(mydata_path, f'{split_type}_{i}', f'{split_type}_{i}_seg.nii.gz')).get_fdata()\n",
    "\n",
    "    mask=mask.astype(np.uint8)\n",
    "    mask[mask==4] = 3\n",
    "    mask= to_categorical(mask, num_classes=4)\n",
    "    combined_x = np.stack([image_t1, image_t2, image_t1ce, image_flair], axis=3)\n",
    "\n",
    "    combined_x=combined_x[56:184, 56:184, 13:141]\n",
    "    mask = mask[56:184, 56:184, 13:141]\n",
    "    \n",
    "    return combined_x, mask"
   ]
  },
  {
   "cell_type": "code",
   "execution_count": null,
   "id": "1e670483-ee8b-4100-b9db-950faa2b6171",
   "metadata": {},
   "outputs": [],
   "source": [
    "image_t1=scaler.fit_transform(image_t1.reshape(-1, image_t1.shape[-1])).reshape(image_t1.shape)\n",
    "\n",
    "    mask=mask.astype(np.uint8)\n",
    "    mask[mask==4] = 3"
   ]
  }
 ],
 "metadata": {
  "kernelspec": {
   "display_name": "Python 3 (ipykernel)",
   "language": "python",
   "name": "python3"
  },
  "language_info": {
   "codemirror_mode": {
    "name": "ipython",
    "version": 3
   },
   "file_extension": ".py",
   "mimetype": "text/x-python",
   "name": "python",
   "nbconvert_exporter": "python",
   "pygments_lexer": "ipython3",
   "version": "3.10.12"
  }
 },
 "nbformat": 4,
 "nbformat_minor": 5
}
